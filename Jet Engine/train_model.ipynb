{
 "cells": [
  {
   "cell_type": "code",
   "execution_count": null,
   "metadata": {},
   "outputs": [],
   "source": [
    "import pandas as pd\n",
    "from sklearn.preprocessing import StandardScaler"
   ]
  },
  {
   "cell_type": "code",
   "execution_count": null,
   "metadata": {},
   "outputs": [],
   "source": [
    "def load_and_preprocess_data(file_path):\n",
    "    # Defining column names based on the dataset description\n",
    "    columns = ['unit_number', 'time_in_cycles'] + \\\n",
    "              ['operational_setting_{}'.format(i) for i in range(1, 4)] + \\\n",
    "              ['sensor_measurement_{}'.format(i) for i in range(1, 21)]\n",
    "\n",
    "    # Load the data\n",
    "    df = pd.read_csv(file_path, sep=' ', header=None, names=columns, engine='python')\n",
    "    df.drop(columns=[df.columns[-1], df.columns[-2]], axis=1, inplace=True)  # Removing extra NaN columns\n",
    "\n",
    "    # Splitting the units into train, calibration, and test sets\n",
    "    unique_units = df['unit_number'].unique()\n",
    "    train_units = unique_units[:8]\n",
    "    calibration_units = unique_units[8:10]\n",
    "    test_units = unique_units[10:]\n",
    "\n",
    "    # Creating datasets based on the units\n",
    "    train_df = df[df['unit_number'].isin(train_units)]\n",
    "    calibration_df = df[df['unit_number'].isin(calibration_units)]\n",
    "    test_df = df[df['unit_number'].isin(test_units)]\n",
    "\n",
    "    # Applying StandardScaler to each dataset\n",
    "    scaler = StandardScaler()\n",
    "\n",
    "    # Features to scale (excluding 'unit_number' and 'time_in_cycles')\n",
    "    feature_columns = df.columns[2:]\n",
    "\n",
    "    # Training set\n",
    "    train_df_scaled = train_df.copy()\n",
    "    train_df_scaled[feature_columns] = scaler.fit_transform(train_df[feature_columns])\n",
    "\n",
    "    # Calibration set\n",
    "    calibration_df_scaled = calibration_df.copy()\n",
    "    calibration_df_scaled[feature_columns] = scaler.transform(calibration_df[feature_columns])\n",
    "\n",
    "    # Test set\n",
    "    test_df_scaled = test_df.copy()\n",
    "    test_df_scaled[feature_columns] = scaler.transform(test_df[feature_columns])\n",
    "\n",
    "    return train_df_scaled, calibration_df_scaled, test_df_scaled"
   ]
  }
 ],
 "metadata": {
  "language_info": {
   "name": "python"
  }
 },
 "nbformat": 4,
 "nbformat_minor": 2
}
